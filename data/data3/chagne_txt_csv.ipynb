{
 "cells": [
  {
   "cell_type": "code",
   "execution_count": 2,
   "id": "a03548c3-ed75-45e6-95e0-8f0a5e880b2d",
   "metadata": {},
   "outputs": [],
   "source": [
    "import os\n",
    "import re\n",
    "import csv\n",
    "\n",
    "directory = \"C:\\\\Users\\\\LG\\\\Desktop\\\\딥러닝\\\\제3회 AI X Bookhathon 대회\\\\데이터\\\\httpsblog.naver.comjiangli197580183878314\\\\\"\n",
    "file_name = 'integrated_essay.csv'\n",
    "\n",
    "final_file = open(file_name, 'w', -1, 'UTF-8', newline = '')\n",
    "wr = csv.writer(final_file)\n",
    "\n",
    "files = os.listdir(directory)\n",
    "\n",
    "#remove = re.sub('(.)')\n",
    "\n",
    "for filename in files:\n",
    "    lst = []\n",
    "    lst_temp = []\n",
    "    if \".txt\" not in filename:\n",
    "        continue\n",
    "    file = open(directory + filename, 'r', encoding = 'UTF-8')\n",
    "    #print(file)\n",
    "    for line in file:\n",
    "        line = re.sub(r'\\([^)]*\\)', '', line)\n",
    "        lst.append(line)\n",
    "        wr.writerow(lst)\n",
    "        lst = lst_temp\n",
    "    file.close()\n",
    "#final_file.write('')\n",
    "final_file.close()"
   ]
  },
  {
   "cell_type": "code",
   "execution_count": null,
   "id": "878fa29e-9cbd-46a5-a710-6553b7f0416c",
   "metadata": {},
   "outputs": [],
   "source": []
  }
 ],
 "metadata": {
  "kernelspec": {
   "display_name": "Python 3",
   "language": "python",
   "name": "python3"
  },
  "language_info": {
   "codemirror_mode": {
    "name": "ipython",
    "version": 3
   },
   "file_extension": ".py",
   "mimetype": "text/x-python",
   "name": "python",
   "nbconvert_exporter": "python",
   "pygments_lexer": "ipython3",
   "version": "3.8.8"
  }
 },
 "nbformat": 4,
 "nbformat_minor": 5
}
